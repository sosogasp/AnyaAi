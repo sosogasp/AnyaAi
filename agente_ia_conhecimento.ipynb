{
 "cells": [
  {
   "cell_type": "code",
   "execution_count": null,
   "id": "3aaf46c9",
   "metadata": {},
   "outputs": [
    {
     "name": "stderr",
     "output_type": "stream",
     "text": [
      "C:\\Users\\sophiagasparetto-ieg\\AppData\\Roaming\\Python\\Python312\\site-packages\\tqdm\\auto.py:21: TqdmWarning: IProgress not found. Please update jupyter and ipywidgets. See https://ipywidgets.readthedocs.io/en/stable/user_install.html\n",
      "  from .autonotebook import tqdm as notebook_tqdm\n"
     ]
    }
   ],
   "source": [
    "from dotenv import load_dotenv\n",
    "import os\n",
    "import google.generativeai as genai\n",
    "from langchain_google_genai import ChatGoogleGenerativeAI\n",
    "from langchain.agents import initialize_agent, AgentType\n",
    "from langchain.memory import ConversationBufferMemory\n",
    "from langchain.tools import Tool\n",
    "from langchain.prompts import PromptTemplate\n",
    "\n",
    "load_dotenv()\n",
    "api_key = os.getenv(\"GEMINI_API_KEY\")\n",
    "genai.configure(api_key=api_key)\n",
    "llm = ChatGoogleGenerativeAI(model=\"gemini-2.0-flash\", google_api_key=api_key)\n"
   ]
  },
  {
   "cell_type": "code",
   "execution_count": 92,
   "id": "4de5e483",
   "metadata": {},
   "outputs": [],
   "source": [
    "def ler_arquivo(entrada: str) -> str:\n",
    "    \"\"\"Lê o conteúdo do arquivo 'conhecimento.txt'.\"\"\"\n",
    "    try:\n",
    "        with open(\"conhecimento.txt\", 'r', encoding='utf-8') as f:\n",
    "            return f.read()\n",
    "    except FileNotFoundError:\n",
    "        return \"Erro: Arquivo 'conhecimento.txt' não encontrado.\"\n",
    "    except Exception as e:\n",
    "        return f\"Erro ao ler o arquivo: {e}\"\n"
   ]
  },
  {
   "cell_type": "code",
   "execution_count": 93,
   "id": "1d0d31ce",
   "metadata": {},
   "outputs": [],
   "source": [
    "tools = [\n",
    "    Tool(\n",
    "        name=\"ler_arquivo\",\n",
    "        func=ler_arquivo,\n",
    "        description=\"Lê o conteúdo do arquivo 'conhecimento.txt' para análise de IA.\",\n",
    "    )\n",
    "]\n"
   ]
  },
  {
   "cell_type": "code",
   "execution_count": null,
   "id": "34fad82c",
   "metadata": {},
   "outputs": [],
   "source": [
    "system_prompt = (\"\"\"Você é um especialista em análise de texto.\n",
    "Use a ferramenta 'ler_arquivo' para responder a pergunta do usuário.\n",
    "Caso não exista informação sobre, responda \"não consigo responder\", seja honesto.\n",
    "\n",
    "Pergunta do usuário: {input}\n",
    "    \"\"\"\n",
    ")\n"
   ]
  },
  {
   "cell_type": "code",
   "execution_count": 95,
   "id": "f3f07547",
   "metadata": {},
   "outputs": [],
   "source": [
    "memory = ConversationBufferMemory(memory_key=\"chat_history\")\n",
    "agent = initialize_agent(\n",
    "    llm=llm,\n",
    "    tools=tools,\n",
    "    agent=AgentType.ZERO_SHOT_REACT_DESCRIPTION,\n",
    "    prompt=system_prompt.partial(system_message=system_prompt),\n",
    "    memory=memory,\n",
    "    verbose=True,\n",
    ")\n"
   ]
  },
  {
   "cell_type": "code",
   "execution_count": 96,
   "id": "4030a975",
   "metadata": {},
   "outputs": [
    {
     "name": "stdout",
     "output_type": "stream",
     "text": [
      "\n",
      "\n",
      "\u001b[1m> Entering new AgentExecutor chain...\u001b[0m\n",
      "\u001b[32;1m\u001b[1;3mI need to read the contents of the file 'conhecimento.txt' to find information about Yor and Loid's relationship and the likelihood of them getting married.\n",
      "\n",
      "Action: ler_arquivo\n",
      "Action Input: conhecimento.txt\u001b[0m\n",
      "Observation: \u001b[36;1m\u001b[1;3mSpy X Family é um anime de comédia/ação baseado em um mangá shōnen de Tatsuya Endo.\n",
      "O protagonista é Loid Forger, um espião com o codinome Twilight.\n",
      "Loid recebe uma missão chamada Operação Strix.\n",
      "A missão exige que ele forme uma família falsa.\n",
      "O objetivo é se aproximar de Donovan Desmond, um político importante.\n",
      "Donovan só aparece nas reuniões dos Imperial Scholars do colégio Eden.\n",
      "Essas reuniões são restritas aos pais dos alunos mais brilhantes.\n",
      "Para isso, Loid adota uma menina chamada Anya.\n",
      "Anya precisa se tornar uma Imperial Scholar.\n",
      "Loid também precisa de uma esposa para manter a fachada.\n",
      "Ele conhece Yor Briar, que aceita o casamento falso.\n",
      "Yor, na verdade, é uma assassina conhecida como Briar Rose.\n",
      "Para esconder sua verdadeira identidade Yor aceita o casamento de faixada.\n",
      "Loid e Yor não conhecem as verdadeiras identidades um do outro.\n",
      "Anya tem o poder de ler mentes de qualquer indivíduo, exceto quando é lua cheia.\n",
      "Ela descobre os segredos de Loid e Yor, mas decide não falar nada para manter o bem do “casamento”.\n",
      "Anya foi alvo de experimentos quando era menor.\n",
      "Loid é a quinta tentativa de família para Anya.\n",
      "Yor não sabe que Anya é adotada.\n",
      "O certificado de casamento foi forjado por Frankie, amigo de Loid.\n",
      "Com o tempo, a família adota um cachorro chamado Bond.\n",
      "Bond tem o poder de prever o futuro.\n",
      "Em uma ocasião, uma visão de Bond permite que Anya salve Loid.\n",
      "Em outra ocasião ela descobre que o Loid tem uma missão na escola e acaba ajudando-o (sem que ele perceba).\n",
      "Mesmo com tantos segredos, a família começa a criar laços reais.\n",
      "Yor tem um irmão mais novo, Yuri Briar que trabalha na polícia secreta.\n",
      "Yuri é muito protetor quando se trata da Yor\n",
      "Loid e Yor perderam seus pais na guerra entre Ostania e Westalis\n",
      "Twilight é o principal alvo de Yuri (mesmo sem Yuri saber sobre a identidade de Loid, ele não aprova a relação dele com Yor, por ser extremamente superprotetor)\n",
      "Anya tem medo que, ao fim da missão Strix, Loid a levará de volta ao orfanato\n",
      "Anya ama amendoim\n",
      "Yor é péssima na cozinha\n",
      "Loid é um ótimo cozinheiro\n",
      "Frankie é o informante de Loid e costuma ajudá-lo com equipamentos e disfarces.\n",
      "Anya estuda na prestigiosa escola Eden Academy, onde enfrenta diversos desafios.\n",
      "Para ganhar estrelas e se tornar uma Imperial Scholar, os alunos devem se destacar academicamente e socialmente.\n",
      "Anya consegue sua primeira Stella Star ao salvar um colega que estava se afogando.\n",
      "Ela também coleciona Tonitrus Bolts, que são punições dadas por mau comportamento.\n",
      "Anya adora o desenho animado “Spy Wars” e admira o personagem Bondman.\n",
      "Bond foi resgatado de um laboratório onde era usado em experimentos militares.\n",
      "O disfarce de Loid é o de um psiquiatra na fictícia clínica Berlint General Hospital.\n",
      "Yor trabalha na prefeitura de Berlint como funcionária pública durante o dia.\n",
      "O anime mistura ação, comédia, drama e momentos emocionantes do cotidiano familiar.\n",
      "A convivência entre eles cria situações engraçadas, especialmente por causa das habilidades únicas de Anya e Bond.\n",
      "Yor possui uma força física impressionante, que surpreende todos ao redor.\n",
      "Apesar de ser uma assassina, Yor é gentil, tímida e cuida com carinho de Anya.\n",
      "Loid é extremamente perfeccionista e se preocupa em manter a missão sob controle.\n",
      "Anya frequentemente interpreta mal situações por causa de seus poderes mentais.\n",
      "A série mostra críticas sutis ao sistema educacional e à sociedade autoritária.\n",
      "Apesar de ser uma “família falsa”, os três desenvolvem amor e lealdade genuínos uns pelos outros.\n",
      "\u001b[0m\n",
      "Thought:\u001b[32;1m\u001b[1;3mThe text indicates that Loid and Yor are in a fake marriage for their own purposes, but it also mentions that \"apesar de ser uma 'família falsa', os três desenvolvem amor e lealdade genuínos uns pelos outros.\" This suggests that there is a possibility of them developing real feelings for each other.\n",
      "\n",
      "Final Answer: The text suggests that although the marriage is currently a facade, the development of genuine love and loyalty between Loid and Yor makes it possible for them to get actually married in the future.\u001b[0m\n",
      "\n",
      "\u001b[1m> Finished chain.\u001b[0m\n",
      "Resposta do Agente: The text suggests that although the marriage is currently a facade, the development of genuine love and loyalty between Loid and Yor makes it possible for them to get actually married in the future.\n"
     ]
    }
   ],
   "source": [
    "try:\n",
    "    pergunta = input(\"Me faça uma pergunta sobre SpyxFamily: \")\n",
    "    resposta = agent.run(pergunta)\n",
    "    print(f\"Resposta do Agente: {resposta}\")\n",
    "except Exception as e:\n",
    "    print(f\"Ocorreu um erro ao executar o agente: {e}\")\n"
   ]
  }
 ],
 "metadata": {
  "kernelspec": {
   "display_name": "Python 3",
   "language": "python",
   "name": "python3"
  },
  "language_info": {
   "codemirror_mode": {
    "name": "ipython",
    "version": 3
   },
   "file_extension": ".py",
   "mimetype": "text/x-python",
   "name": "python",
   "nbconvert_exporter": "python",
   "pygments_lexer": "ipython3",
   "version": "3.12.5"
  }
 },
 "nbformat": 4,
 "nbformat_minor": 5
}
